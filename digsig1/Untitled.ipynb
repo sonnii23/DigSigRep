{
 "cells": [
  {
   "cell_type": "markdown",
   "id": "624e2829-c676-4cc5-827d-177207f4f579",
   "metadata": {},
   "source": [
    "Bibliotheken importieren"
   ]
  },
  {
   "cell_type": "code",
   "execution_count": 6,
   "id": "7d6c8f6c-c71f-4421-9689-1bc20610fb0f",
   "metadata": {},
   "outputs": [],
   "source": [
    "import numpy as np\n",
    "import matplotlib as plt"
   ]
  },
  {
   "cell_type": "markdown",
   "id": "194fb55b-aefe-4e4c-9669-04a7c841bf3e",
   "metadata": {},
   "source": [
    "Definitionen festlegen"
   ]
  },
  {
   "cell_type": "code",
   "execution_count": 9,
   "id": "51a087e5-9f45-4f36-a233-1a293e554079",
   "metadata": {},
   "outputs": [],
   "source": [
    "t_min = -1\n",
    "t_max = 2\n",
    "N = 400\n",
    "t_N = np.linspace(t_min, t_max, N)\n",
    "T = 1\n",
    "omega = 2*np.pi/T\n",
    "s_N = np.cos(omega*t_N)\n",
    "f_N = np.cos(11*omega*t_N)\n"
   ]
  },
  {
   "cell_type": "code",
   "execution_count": 10,
   "id": "4569875a-bbf4-4d20-92e2-22811eeef9b9",
   "metadata": {},
   "outputs": [],
   "source": [
    "T_s = T/10\n"
   ]
  },
  {
   "cell_type": "code",
   "execution_count": null,
   "id": "9c206e8c-4f73-44d8-bce1-35565bc3c05f",
   "metadata": {},
   "outputs": [],
   "source": [
    "ax1.plot(t_N, f_N, \"red\", linestyle=\":\")\n",
    "ax1.set(xlabel=\"Zeit $t$(s)\", ylabel=\"$s(t), "
   ]
  }
 ],
 "metadata": {
  "kernelspec": {
   "display_name": "Python 3 (ipykernel)",
   "language": "python",
   "name": "python3"
  },
  "language_info": {
   "codemirror_mode": {
    "name": "ipython",
    "version": 3
   },
   "file_extension": ".py",
   "mimetype": "text/x-python",
   "name": "python",
   "nbconvert_exporter": "python",
   "pygments_lexer": "ipython3",
   "version": "3.9.13"
  }
 },
 "nbformat": 4,
 "nbformat_minor": 5
}
