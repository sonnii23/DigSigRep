{
 "cells": [
  {
   "cell_type": "markdown",
   "metadata": {},
   "source": [
    "Praktikum Digitale Signalverarbeitung\n",
    "=====================================\n",
    "\n",
    "**Author:** Prof. Dr.-Ing. Johann-Markus Batke\n",
    "\n",
    "**Date:** SS 2024\n",
    "\n"
   ]
  },
  {
   "cell_type": "markdown",
   "metadata": {},
   "source": [
    "## Organisatorisches\n",
    "\n"
   ]
  },
  {
   "cell_type": "markdown",
   "metadata": {},
   "source": [
    "Einige Anmerkungen zum reibungslosen Ablauf des Praktikums:\n",
    "\n",
    "-   Geben Sie Ihr Notebook **vollständig** ab, d.h. es sind\n",
    "    Vorbereitungsaufgaben und Praktikumsaufgaben im Notebook enthalten.\n",
    "\n",
    "-   Nutzen Sie die Markdown-Zellen zur Dokumentation Ihrer Lösungen.\n",
    "\n",
    "-   Sollten Sie vor Ablauf von Termin 4 fertig sein, zeigen Sie **vor**\n",
    "    Abgabe einem der Betreuer Ihre Lösung. Ist alles in Ordnung, können\n",
    "    Sie früher gehen.\n",
    "\n"
   ]
  },
  {
   "cell_type": "markdown",
   "metadata": {},
   "source": [
    "## Vorbereitung\n",
    "\n"
   ]
  },
  {
   "cell_type": "markdown",
   "metadata": {},
   "source": [
    "Die Vorbereitung muss zu Beginn des Praktikums erfolgt sein, damit eine flüssige Bearbeitung der Aufgaben während des Praktikums gewährleistet ist.  Die Ergebnisse der Vorbereitung in diesem Versuch sind in der Lösung mit abzugeben!\n",
    "\n"
   ]
  },
  {
   "cell_type": "markdown",
   "metadata": {},
   "source": [
    "### Numpy-Sprachelemente\n",
    "\n"
   ]
  },
  {
   "cell_type": "markdown",
   "metadata": {},
   "source": [
    "1.  Vergegenwärtigen Sie sich die Funktion der Numpy-array-Methoden `shape`, `reshape`, `ndim`, `size`.\n",
    "\n",
    "2.  Welche Ausgabe ergibt folgender Programmtext? Was bedeuten die ausgegebenen Werte?\n",
    "\n"
   ]
  },
  {
   "cell_type": "code",
   "execution_count": 41,
   "metadata": {},
   "outputs": [],
   "source": [
    "import numpy as np"
   ]
  },
  {
   "cell_type": "markdown",
   "metadata": {},
   "source": [
    "Die Funktion `shape` gibt die Form der Matrix aus.\n",
    "\n",
    "Die Funktion `reshape` formt einen Vektor in eine vorgegebene Matrixform.\n",
    "\n",
    "Die Funktion `ndim` gibt aus welche Dimension die Matrix hat.\n",
    "\n",
    "Die Funktion `size` gibt die Größe der Matrix aus"
   ]
  },
  {
   "cell_type": "code",
   "execution_count": 42,
   "metadata": {},
   "outputs": [
    {
     "name": "stdout",
     "output_type": "stream",
     "text": [
      "12\n",
      "(3, 2, 2)\n",
      "3\n"
     ]
    }
   ],
   "source": [
    "a = np.ones([3, 2, 2])\n",
    "print(a.size)       #ausgabe der Größe der matrix. Hier 12 da die Matrix 12 Elemente enthält.\n",
    "print(a.shape)      #ausgabe der Form der matrix. Hier (3, 2, 2) da die Matrix 3 Zeilen, 2 Spalten und 2 Ebenen hat.\n",
    "print(a.ndim)       #ausgabe der Dimension der matrix. Hier 3 da die Matrix 3 Dimensionen hat (dies kann man auch an den Klammern ablesen)."
   ]
  },
  {
   "cell_type": "markdown",
   "metadata": {},
   "source": [
    "<hr>"
   ]
  },
  {
   "cell_type": "markdown",
   "metadata": {},
   "source": [
    "1.  Analysieren Sie die Ausgabe dieses Beispiels.  Welche Dimension hat `c`?\n",
    "\n"
   ]
  },
  {
   "cell_type": "code",
   "execution_count": 43,
   "metadata": {},
   "outputs": [
    {
     "name": "stdout",
     "output_type": "stream",
     "text": [
      "[[3.]\n",
      " [3.]\n",
      " [3.]]\n"
     ]
    }
   ],
   "source": [
    "A = np.ones([3, 3])\n",
    "b = np.ones([3,1])\n",
    "c = A @ b\n",
    "print(c)"
   ]
  },
  {
   "cell_type": "markdown",
   "metadata": {},
   "source": [
    "`c` hat 2 Dimensionen.\n"
   ]
  },
  {
   "cell_type": "markdown",
   "metadata": {},
   "source": [
    "2. Dieser Versuch beschäftigt sich mit Methoden der linearen Algebra (also Rechnen mit Vektoren und Matrizen).  Erklären Sie diesbezüglich die Begriffe \"elementweise Multiplikation\", \"Matrixmultiplikation\", \"inneres Produkt\", \"äußeres Produkt\", \"Skalarprodukt\" und \"Kreuzprodukt\"!\n",
    "\n"
   ]
  },
  {
   "cell_type": "markdown",
   "metadata": {},
   "source": [
    "Bei der Elementweisen Multiplikation werden die einzelnen Elemente eines Vektors oder einer Matrix miteinander multipliziert.\n",
    "\n",
    "Bei der Matrixmultiplikation multipliziert man die Zeilen einer Matrix mit den Spalten einer anderen. \n",
    "\n",
    "Das Innere Produkt oder auch Skalarprodukt ist die Summe aus zwei Vektoren/Matrizen.\n",
    "\n",
    "Das Äußere Produkt oder auch Kreuzprodukt ergibt einen Vektor der Orthogonal zu den Vektoren aus denen er berechnet wurde steht."
   ]
  },
  {
   "cell_type": "markdown",
   "metadata": {},
   "source": [
    "<hr>"
   ]
  },
  {
   "cell_type": "markdown",
   "metadata": {},
   "source": [
    "### Berechnung einer Summe per Schleife\n",
    "\n"
   ]
  },
  {
   "cell_type": "markdown",
   "metadata": {},
   "source": [
    "Die Berechnungsvorschrift \n",
    "\n",
    "s =$\\sum\\limits_{i=1}^{3}$ $a_i *b_i$\n",
    "\n",
    "ergibt einen skalaren Wert $s$, viele Zusammenhänge der Signalverarbeitung werden über diese Summenschreibweise dargestellt. Zur Berechnung einer solchen Summe wird häufig eine Schleife programmiert.  Die Koeffizienten $a_i$ und $b_i$ lassen sich aber auch als Vektorelemente auffassen, damit lässt sich die Berechnung durch die lineare Algebra formulieren.\n",
    "\n",
    "Verwenden Sie die Defintion der Variablen $\\vec a$ und $\\vec b$ der Form\n",
    "\n"
   ]
  },
  {
   "cell_type": "code",
   "execution_count": 44,
   "metadata": {},
   "outputs": [],
   "source": [
    "loops = 3\n",
    "\n",
    "a_N = np.arange(loops) + 1\n",
    "b_N = np.arange(loops) + 2"
   ]
  },
  {
   "cell_type": "markdown",
   "metadata": {},
   "source": [
    "und programmieren Sie die Berechnung für das Ergebnis $s$ wie oben angegeben per Schleife!\n",
    "\n"
   ]
  },
  {
   "cell_type": "code",
   "execution_count": 45,
   "metadata": {},
   "outputs": [
    {
     "name": "stdout",
     "output_type": "stream",
     "text": [
      "20\n"
     ]
    }
   ],
   "source": [
    "for i in range(loops):\n",
    "    s = a_N @ b_N\n",
    "\n",
    "print(s)"
   ]
  },
  {
   "cell_type": "markdown",
   "metadata": {},
   "source": [
    "<hr>"
   ]
  },
  {
   "cell_type": "markdown",
   "metadata": {},
   "source": [
    "### Vektorielle Berechnung einer Summengleichung\n",
    "\n"
   ]
  },
  {
   "cell_type": "markdown",
   "metadata": {},
   "source": [
    "Das innere Produkt zweier Vektoren $\\vec a$ und $\\vec b$ mit z.B. je 3 Elementen lautet:\n",
    "$$\n",
    "\\vec{a} \\cdot \\vec{b}^T = \n",
    "\\begin{pmatrix}\n",
    "  a_1 & a_2 & a_3\n",
    "\\end{pmatrix}\n",
    "\\cdot\n",
    "\\begin{pmatrix}\n",
    "  b_1 \\\\\n",
    "  b_2 \\\\\n",
    "  b_3\n",
    "\\end{pmatrix}\n",
    "= a_1 b_1 + a_2 b_2 + a_3 b_3 = s\n",
    "$$\n",
    "\n",
    "\n",
    "\n",
    "Die Umsetzung einer solchen Operation wird durch *numpy* als Vektorprodukt realisierbar, ohne das eine Schleife implementiert werden muss.\n",
    "\n",
    "Verwenden Sie die Definition von $\\vec a$ und $\\vec b$ wie oben angegeben und berechnen Sie das Ergebnis $s$ per Vektorprodukt!\n",
    "\n"
   ]
  },
  {
   "cell_type": "code",
   "execution_count": 46,
   "metadata": {},
   "outputs": [
    {
     "name": "stdout",
     "output_type": "stream",
     "text": [
      "20\n"
     ]
    }
   ],
   "source": [
    "print(np.inner(a_N, b_N))"
   ]
  },
  {
   "cell_type": "markdown",
   "metadata": {},
   "source": [
    "<hr>"
   ]
  },
  {
   "cell_type": "markdown",
   "metadata": {},
   "source": [
    "### Zeitmessung\n",
    "\n"
   ]
  },
  {
   "cell_type": "markdown",
   "metadata": {},
   "source": [
    "Um die Verarbeitungszeit in Python messen zu können, kann das Modul `time` verwendet werden. Folgendes Code-Beispiel verdeutlicht den Zusammenhang.\n",
    "\n"
   ]
  },
  {
   "cell_type": "code",
   "execution_count": 47,
   "metadata": {},
   "outputs": [
    {
     "name": "stdout",
     "output_type": "stream",
     "text": [
      "Die Schlafenszeit beträgt 2.004188299179077 Sekunden\n"
     ]
    }
   ],
   "source": [
    "import time \n",
    "tic = time.time()\n",
    "time.sleep(2)\n",
    "toc = time.time()\n",
    "print(\"Die Schlafenszeit beträgt \" + str(toc-tic) + \" Sekunden\")"
   ]
  },
  {
   "cell_type": "markdown",
   "metadata": {},
   "source": [
    "Lassen Sie den Rechner nur noch eine Sekunde schlafen und modifizieren entsprechend den Quelltext!\n",
    "\n"
   ]
  },
  {
   "cell_type": "code",
   "execution_count": 48,
   "metadata": {},
   "outputs": [
    {
     "name": "stdout",
     "output_type": "stream",
     "text": [
      "Die Schlafenszeit beträgt 1.002713680267334 Sekunden\n"
     ]
    }
   ],
   "source": [
    "tic = time.time()\n",
    "time.sleep(1)\n",
    "toc = time.time()\n",
    "print(\"Die Schlafenszeit beträgt \" + str(toc-tic) + \" Sekunden\")"
   ]
  },
  {
   "cell_type": "markdown",
   "metadata": {},
   "source": [
    "<hr>"
   ]
  },
  {
   "cell_type": "markdown",
   "metadata": {},
   "source": [
    "## Praktikum\n",
    "\n"
   ]
  },
  {
   "cell_type": "markdown",
   "metadata": {},
   "source": [
    "In diesem Praktikum soll die Berechnung der DFT direkt bzw. mittels Matrix-Algebra in Python untersucht werden.\n",
    "\n"
   ]
  },
  {
   "cell_type": "markdown",
   "metadata": {},
   "source": [
    "### Berechnung per Schleife\n",
    "\n"
   ]
  },
  {
   "cell_type": "markdown",
   "metadata": {},
   "source": [
    "Die Definition der DFT lauten für eine periodische Folge $x[n]$ mit $n = 0\\ldots N-1$ für die Rücktransformation\n",
    "\n",
    "$$\n",
    "\\begin{equation}\n",
    "x[n] = \\frac{1}{N} \\sum_{k=0}^{N-1} X[k] \\, e^{j \\frac{2\\pi}{N} k n}\n",
    "\\end{equation}\n",
    "$$\n",
    "\n",
    "wobei die DFT-Koeffizienten $X[k]$ bzgl. der Frequenzen $k$ mit $k = 0\\ldots N-1$ nach\n",
    "\n",
    "$$\n",
    "\\begin{equation}\n",
    "X[k] = \\sum_{n=0}^{N-1} x[n] \\, e^{-j \\frac{2\\pi}{N} k n}\n",
    "\\end{equation}\n",
    "$$\n",
    "\n",
    "\n",
    "berechnet werden können. \n",
    "\n",
    "Diese Gleichung bezeichnet man auch als Hintransformation.  Das Zeitsignal $x[n]$ ist periodisch, die Grundfrequenz des Signals beträgt $\\frac{1}{N}$; d.h. die Periode einer Schwingung enthält $N$ Abtastwerte.  Schreiben Sie eine Python-Funktion `X = dft_schleife(x)`, die zum Vektor `x` die DFT-Koeffizienten `X` berechnet!\n",
    "\n",
    "Beachten Sie dabei:\n",
    "\n",
    "-   als Implementierung soll eine `for`-Schleife verwendet werden;\n",
    "-   die Ordnung $N$ soll aus der Länge des Eingangsvektors bestimmt werden.\n",
    "\n"
   ]
  },
  {
   "cell_type": "code",
   "execution_count": 49,
   "metadata": {},
   "outputs": [
    {
     "name": "stdout",
     "output_type": "stream",
     "text": [
      "[28. +0.j         -3.5+7.26782489j -3.5+2.79115686j -3.5+0.79885216j\n",
      " -3.5-0.79885216j -3.5-2.79115686j -3.5-7.26782489j]\n"
     ]
    }
   ],
   "source": [
    "def dft_schleife(x):\n",
    "    N = len(x)                                               #Länge des Eingabevektors\n",
    "    X = np.zeros(N, dtype=np.complex_)                       #Initialisierung des Ausgabevektors\n",
    "    for k in range(N):                                       #for-schleife erstellen                                                          \n",
    "        for n in range(N):\n",
    "            X[k] += x[n] * np.exp(-2j * np.pi * k * n / N)\n",
    "    return X                                                 #Rückgabe des Ausgabevektors                                                                                                                      \n",
    "\n",
    "print(dft_schleife(np.array([1, 2, 3, 4, 5, 6, 7])))         #print des Ausgabevektors\n"
   ]
  },
  {
   "cell_type": "markdown",
   "metadata": {},
   "source": [
    "<hr>"
   ]
  },
  {
   "cell_type": "markdown",
   "metadata": {},
   "source": [
    "### Berechnung per Matrix\n",
    "\n"
   ]
  },
  {
   "cell_type": "markdown",
   "metadata": {},
   "source": [
    "Die Implementierung der DFT Hin- und Rücktransformation ist in Numpy einfach durch Bildung eines inneren Vektorprodukts umzusetzen. (Weitere Informationen zur Umsetzung finden sie im Buch Martin Werner (2012) \"Digitale Signalverarbeitung mit MATLAB®\", Springer Science + Business Media.)\n",
    "\n",
    "Die Implementierung der DFT in diesem Versuch soll in der Form\n",
    "\n",
    "$$\n",
    "\\begin{equation}\n",
    "\\vec{W} \\, \\vec{x} = \\vec{X}\n",
    "\\end{equation}\n",
    "$$\n",
    "\n",
    "\n",
    "erfolgen, wobei ein $\\vec W$ eine Matrix mit den Exponentialfunktionswerten $\\mathrm e^{-\\mathrm j 2\\pi/N n k}$ mit $N$ Zeilen und $N$ Spalten darstellt und $\\vec x$ die zu transformierende Folge $x(n)$ mit $n = 0\\ldots N-1$ enthält.\n",
    "\n",
    "Programmieren Sie alternativ eine Funktion `X = dft_vektor(x)` wobei die Berechnung wie oben dargestellt per Vektorprodukt vollzogen wird. Sie verwenden also keine `for`-Schleife, sondern die Exponentialfunktionswerte in einer Matrix wie in Gleichung [1](#org56ec6c1).\n",
    "\n"
   ]
  },
  {
   "cell_type": "code",
   "execution_count": 50,
   "metadata": {},
   "outputs": [
    {
     "name": "stdout",
     "output_type": "stream",
     "text": [
      "[28. +0.j         -3.5+7.26782489j -3.5+2.79115686j -3.5+0.79885216j\n",
      " -3.5-0.79885216j -3.5-2.79115686j -3.5-7.26782489j]\n"
     ]
    }
   ],
   "source": [
    "def dft_vektor(x):\n",
    "    N = len(x)                                                 #Länge des Eingabevektors\n",
    "    n = np.arange(N)                                           #Erstellen des arrays n\n",
    "    x_n = n.reshape((N, 1))                                    #Erstellen des Vektors x(n)\n",
    "    W = np.exp(-2j * np.pi * x_n * n / N)                      #Erstellen der Matrix W\n",
    "    X = np.dot(W, x)                                           #Matrix-Vektor-Multiplikation\n",
    "    return X                                                   #Rückgabe des Ausgabevektors\n",
    "\n",
    "print(dft_vektor(np.array([1, 2, 3, 4, 5, 6, 7])))             #print des Ausgabevektors"
   ]
  },
  {
   "cell_type": "markdown",
   "metadata": {},
   "source": [
    "<hr>"
   ]
  },
  {
   "cell_type": "markdown",
   "metadata": {},
   "source": [
    "### Berechnung der DFT\n",
    "\n"
   ]
  },
  {
   "cell_type": "markdown",
   "metadata": {},
   "source": [
    "Erzeugen Sie eine cos-Folge mit der normierten Kreisfrequenz $\\Omega_0 = \\frac{4\\pi}{N}$ für $N = 32$ Abtastpunkte $n = 0\\ldots 31$.\n",
    "\n",
    "1.  Stellen Sie diese Folge mit dem Befehl `stem` dar.\n",
    "\n",
    "2.  Berechnen Sie die DFT und stellen Sie das Ergebnis mit Real- und\n",
    "    Imaginärteil bzw. mit Betrag und Phase dar.  Verwenden Sie zur\n",
    "    Berechnung der DFT die Befehle\n",
    "    \n",
    "    -   `dft_schleife`\n",
    "    -   `dft_vektor`\n",
    "    -   `np.fft.fft`\n",
    "    \n",
    "    Vergleichen Sie die Ergebnisse!\n",
    "\n",
    "3.  Testen Sie die Performance Ihrer Implementierungen durch Messung\n",
    "    der Verarbeitungszeit! Vergleichen Sie diese mit der\n",
    "    Verarbeitungszeit der fft aus numpy!\n",
    "\n"
   ]
  },
  {
   "cell_type": "markdown",
   "metadata": {},
   "source": [
    "<hr>\n",
    "\n",
    "### 1. Aufgabe"
   ]
  },
  {
   "cell_type": "code",
   "execution_count": 56,
   "metadata": {},
   "outputs": [
    {
     "data": {
      "text/plain": [
       "<StemContainer object of 3 artists>"
      ]
     },
     "execution_count": 56,
     "metadata": {},
     "output_type": "execute_result"
    },
    {
     "data": {
      "image/png": "[encoded data removed]",
      "text/plain": [
       "<Figure size 640x480 with 1 Axes>"
      ]
     },
     "metadata": {},
     "output_type": "display_data"
    }
   ],
   "source": [
    "import matplotlib.pyplot as plt\n",
    "N     = 32\n",
    "omega = 4*np.pi/N\n",
    "cos   = np.cos(omega*np.arange(N))\n",
    "\n",
    "plt.stem(cos)"
   ]
  },
  {
   "cell_type": "markdown",
   "metadata": {},
   "source": [
    "<hr>\n",
    "\n",
    "### 2. Aufgabe"
   ]
  },
  {
   "cell_type": "code",
   "execution_count": 58,
   "metadata": {},
   "outputs": [
    {
     "name": "stdout",
     "output_type": "stream",
     "text": [
      "mit funktion dft_schleife:  [-3.33066907e-16+0.00000000e+00j -2.55351296e-15+1.99840144e-15j\n",
      "  1.60000000e+01-6.66133815e-16j -3.21964677e-15+1.11022302e-15j\n",
      " -2.22044605e-16-2.22044605e-16j  1.77635684e-15-5.99520433e-15j\n",
      " -2.22044605e-16-1.99840144e-15j -2.47024623e-15+4.32986980e-15j\n",
      " -3.17280560e-15-4.55191440e-15j  5.35682609e-15+9.99200722e-16j\n",
      "  6.16173779e-15+2.10942375e-15j -2.66453526e-15-3.33066907e-15j\n",
      " -7.54951657e-15-2.22044605e-15j  5.99520433e-15+5.55111512e-15j\n",
      " -3.88578059e-15-1.64313008e-14j -1.26565425e-14-1.06858966e-14j\n",
      "  7.77156117e-16+2.50171087e-15j -1.19904087e-14+1.15185639e-14j\n",
      "  6.55031585e-15-7.77156117e-15j -6.66133815e-16-1.15463195e-14j\n",
      "  4.66293670e-15-9.10382880e-15j -4.44089210e-16-2.30926389e-14j\n",
      "  1.11022302e-14-1.02140518e-14j -1.06303855e-14-1.17683641e-14j\n",
      "  1.27523066e-14+2.99760217e-15j  4.41313652e-15-3.44169138e-15j\n",
      " -4.61297667e-14+7.21644966e-15j -9.99200722e-15-1.43218770e-14j\n",
      "  2.13162821e-14-2.77555756e-15j  1.13242749e-14+2.57571742e-14j\n",
      "  1.60000000e+01+1.72251102e-13j -3.26405569e-14-1.93456362e-14j]\n",
      "mit dft_vektor funktion:  [-8.17204438e-16+0.00000000e+00j -2.22325576e-15+2.11165046e-15j\n",
      "  1.60000000e+01-3.00440511e-16j -3.69525341e-15+6.40604951e-16j\n",
      " -7.28910187e-16+3.42808549e-16j  1.66010334e-15-6.56642035e-15j\n",
      " -3.33066907e-16-2.20049999e-15j -2.80465350e-15+4.35539866e-15j\n",
      " -3.35224923e-15-4.43555494e-15j  5.43581377e-15+1.25122761e-15j\n",
      "  5.77315973e-15+1.36195533e-15j -2.94438352e-15-3.06476439e-15j\n",
      " -7.59610861e-15-2.35775458e-15j  5.91911485e-15+5.63215514e-15j\n",
      " -3.55271368e-15-1.63587823e-14j -1.25453912e-14-1.07991456e-14j\n",
      "  4.04040889e-16+2.50171087e-15j -1.16630902e-14+1.15207906e-14j\n",
      "  7.10542736e-15-7.80032332e-15j -8.47368209e-16-1.17383818e-14j\n",
      "  4.82562976e-15-8.88858714e-15j -9.51859467e-16-2.31920101e-14j\n",
      "  1.08801856e-14-1.01999832e-14j -1.08508317e-14-1.20759021e-14j\n",
      "  1.25424258e-14+3.02883312e-15j  4.62796338e-15-3.13415333e-15j\n",
      " -4.55191440e-14+7.18474881e-15j -1.03244279e-14-1.45833283e-14j\n",
      "  2.06066678e-14-2.98492183e-15j  1.15089246e-14+2.65598592e-14j\n",
      "  1.60000000e+01+1.72428766e-13j -3.18048220e-14-2.06801305e-14j]\n",
      "mit numpy eingebauter funktion:  [-2.44929360e-16+0.00000000e+00j -2.12731074e-15+1.28262476e-15j\n",
      "  1.60000000e+01-4.75447572e-15j  4.59573270e-16-1.25088769e-15j\n",
      "  5.58947852e-16+2.69385278e-17j  1.04066521e-15-5.13933613e-16j\n",
      " -1.55431223e-15-7.96639400e-16j  1.17172825e-15+2.41436623e-16j\n",
      " -6.89018570e-16-6.66133815e-16j -5.34077841e-17-1.71043622e-15j\n",
      "  3.33066907e-15+7.96639400e-16j -7.84029611e-17+1.73659468e-15j\n",
      " -6.90891319e-17+9.15116947e-16j -3.63058256e-17+9.99640599e-16j\n",
      " -8.88178420e-16+7.57672834e-16j -3.76539410e-16-6.69248082e-16j\n",
      "  6.43249060e-16+0.00000000e+00j -3.76539410e-16+6.69248082e-16j\n",
      " -8.88178420e-16-7.57672834e-16j -3.63058256e-17-9.99640599e-16j\n",
      " -6.90891319e-17-9.15116947e-16j -7.84029611e-17-1.73659468e-15j\n",
      "  3.33066907e-15-7.96639400e-16j -5.34077841e-17+1.71043622e-15j\n",
      " -6.89018570e-16+6.66133815e-16j  1.17172825e-15-2.41436623e-16j\n",
      " -1.55431223e-15+7.96639400e-16j  1.04066521e-15+5.13933613e-16j\n",
      "  5.58947852e-16-2.69385278e-17j  4.59573270e-16+1.25088769e-15j\n",
      "  1.60000000e+01+4.75447572e-15j -2.12731074e-15-1.28262476e-15j]\n"
     ]
    }
   ],
   "source": [
    "dft_schleife(cos)\n",
    "dft_vektor(cos)\n",
    "np.fft.fft(cos)\n",
    "print(\"mit funktion dft_schleife: \", dft_schleife(cos))\n",
    "print(\"mit dft_vektor funktion: \", dft_vektor(cos))\n",
    "print(\"mit numpy eingebauter funktion: \", np.fft.fft(cos))"
   ]
  },
  {
   "cell_type": "markdown",
   "metadata": {},
   "source": [
    "<hr>\n",
    "\n",
    "### 3. Aufgabe"
   ]
  },
  {
   "cell_type": "code",
   "execution_count": null,
   "metadata": {},
   "outputs": [],
   "source": []
  },
  {
   "cell_type": "markdown",
   "metadata": {},
   "source": [
    "## Python-Befehle\n",
    "\n"
   ]
  },
  {
   "cell_type": "markdown",
   "metadata": {},
   "source": [
    "Alle relevanten Python-Befehle für diesen Versuch finden Sie im Arbeitsblatt [Numerical Python (numpy)](../../../WuK/numpy/numpy.md) im Moodle.\n",
    "\n",
    "| mathematische Funktionen aus <code>import numpy as np</code>|<code>exp, real, imag, abs, angle</code>|\n",
    "| array-Methoden|<code>length, numel, size, reshape</code>|\n",
    "| Grafik aus <code>import matplotlib as plt</code>|<code>plot, stem, subplot, xlabel, ylabel</code>|\n",
    "\n"
   ]
  }
 ],
 "metadata": {
  "kernelspec": {
   "display_name": "Python 3 (ipykernel)",
   "language": "python",
   "name": "python3"
  },
  "language_info": {
   "codemirror_mode": {
    "name": "ipython",
    "version": 3
   },
   "file_extension": ".py",
   "mimetype": "text/x-python",
   "name": "python",
   "nbconvert_exporter": "python",
   "pygments_lexer": "ipython3",
   "version": "3.11.7"
  },
  "org": null
 },
 "nbformat": 4,
 "nbformat_minor": 4
}
