{
 "cells": [
  {
   "cell_type": "markdown",
   "metadata": {},
   "source": [
    "# Dual-Ton-Multi-Frequenz-Standard"
   ]
  },
  {
   "cell_type": "markdown",
   "metadata": {},
   "source": [
    "### Beispiel an Klausur WS 23 / 24"
   ]
  },
  {
   "cell_type": "markdown",
   "metadata": {},
   "source": [
    "Aufgabe A1:\n",
    "\n",
    "64 Stützstellen (Y-Achse)\n",
    "\n",
    "Aufgabe A2:\n",
    "\n",
    "keine Zeitabschnitte mit nicht mehr als zwei Frequenzen - keine Überlagerungen (zwischen den Balken links-rechts)\n",
    "\n",
    "Aufgab3 A3:\n",
    "\n",
    "N = 128, da kein Spiegelspektrum gezeit ist.\n",
    "(Wenn Betragsspektrum Realteil)\n",
    "\n",
    "Aufgabe A4:\n",
    "\n",
    "12 Blöcke mit 128 Samples = 1536 Samples\n",
    "\n",
    "128 / 8000 = 0,016 S\n",
    "\n",
    "Aufgabe A5:\n",
    "\n",
    "0,04 s / (1/8000s) = 320\n",
    "oder 40 ms / (1/8 ms) = 320\n",
    "\n",
    "\n",
    "Aufgabe B:\n",
    "\n",
    "Frequenzauflösung dF = fs / N => 8000 Hz / 128 = 62,5 Hz\n",
    "\n",
    "(Suchen nach Frequenzunterschieden in der Tabelle - Differenzen in der Spalte)\n",
    "\n",
    "Wenn die kleinste Differenz größer als Frequenzauflösung ist, dann reich die Freuqenzauflösung.\n",
    "\n",
    "Hier: Kleinste Differenz ~72, also reicht unsere Freuqenzauflösung.\n",
    "\n",
    "Aufgabe C:\n",
    "\n",
    "Man nimmt die Frequnzauflösung (k=11) - Abgelesen an der Y-Achse\n",
    "\n",
    "Dann nimmt man k1 (unterer Balken) * Frequenzauflösung = 1362 -> nächste Frequenz -> In unserem Fall 697 Hz\n",
    "\n",
    "Dann nimmt man k2 (oberer Balken) * Frequenzauflösung = 682,5 -> nächste Frequenz -> In unserem Fall 1336 Hz"
   ]
  },
  {
   "cell_type": "code",
   "execution_count": 6,
   "metadata": {},
   "outputs": [
    {
     "name": "stdout",
     "output_type": "stream",
     "text": [
      "320.0\n",
      "687.5\n"
     ]
    }
   ],
   "source": [
    "print(0.04 / (1/8000))\n",
    "print(11 * 62.5)"
   ]
  },
  {
   "cell_type": "code",
   "execution_count": 9,
   "metadata": {},
   "outputs": [
    {
     "name": "stdout",
     "output_type": "stream",
     "text": [
      "Aufgabe A1\n",
      "Frequnenzstützstellen:  128\n",
      "\n",
      "Aufgabe A3\n",
      "Ordnung der DFT:  256\n",
      "\n",
      "Aufgabe A4\n",
      "Anzahl der Abtastschritte:  2048\n",
      "Sekunden pro Balken:  0.032 s\n",
      "\n",
      "Aufgabe A5\n",
      "Standard Abtastwert:  320.0\n",
      "\n",
      "Aufgabe B\n",
      "Frequenzauflösung:  31.25 Hz\n",
      "Frequenzauflösung ist kleiner als 73 Hz und kann aufgelöst werden.\n",
      "\n",
      "Aufgabe C\n",
      "untere Balken:  781.25 Hz\n",
      "obere Balken:  1343.75 Hz\n"
     ]
    }
   ],
   "source": [
    "# Y-Achse der höchste Wert\n",
    "stuetzstellen = 128\n",
    "\n",
    "# Wieviele Blöcke sind gezeichnet\n",
    "anzahlBloeke = 8\n",
    "\n",
    "# min Sekunden pro Block\n",
    "min_Sekunden = 0.04\n",
    "\n",
    "#Abtastfrequenz\n",
    "fs = 8000\n",
    "\n",
    "# Aufgabe A1\n",
    "N = stuetzstellen * 2\n",
    "print(\"Aufgabe A1\")\n",
    "print(\"Frequnenzstützstellen: \", stuetzstellen)\n",
    "\n",
    "# Aufgabe A3\n",
    "print(\"\")\n",
    "print(\"Aufgabe A3\")\n",
    "print(\"Ordnung der DFT: \", N)\n",
    "\n",
    "\n",
    "# Aufgabe A4\n",
    "samples = anzahlBloeke * N\n",
    "sekunden = N / fs\n",
    "print(\"\")\n",
    "print(\"Aufgabe A4\")\n",
    "print(\"Anzahl der Abtastschritte: \", samples)\n",
    "print(\"Sekunden pro Balken: \", sekunden , \"s\")\n",
    "\n",
    "# Aufgabe A5\n",
    "stand_Abtastwert = min_Sekunden / (1 / fs)\n",
    "print(\"\")\n",
    "print(\"Aufgabe A5\")\n",
    "print(\"Standard Abtastwert: \", stand_Abtastwert)\n",
    "\n",
    "# Aufgabe B\n",
    "freq_auf = fs / N\n",
    "print(\"\")\n",
    "print(\"Aufgabe B\")\n",
    "print(\"Frequenzauflösung: \", freq_auf,  \"Hz\")\n",
    "if(freq_auf < 73):\n",
    "    print(\"Frequenzauflösung ist kleiner als 73 Hz und kann aufgelöst werden.\")\n",
    "else:\n",
    "    print(\"Frequenzauflösung ist größer als 73Hz und kann nicht aufgelöst werden.\")\n",
    "\n",
    "\n",
    "# Aufgabe C\n",
    "print(\"\")\n",
    "print(\"Aufgabe C\")\n",
    "\n",
    "k1 = 25\n",
    "k2 = 43\n",
    "\n",
    "b_u = k1 * freq_auf\n",
    "b_o = k2 * freq_auf\n",
    "\n",
    "print(\"untere Balken: \", b_u , \"Hz\")\n",
    "print(\"obere Balken: \", b_o , \"Hz\")"
   ]
  },
  {
   "cell_type": "code",
   "execution_count": null,
   "metadata": {},
   "outputs": [],
   "source": []
  }
 ],
 "metadata": {
  "kernelspec": {
   "display_name": "base",
   "language": "python",
   "name": "python3"
  },
  "language_info": {
   "codemirror_mode": {
    "name": "ipython",
    "version": 3
   },
   "file_extension": ".py",
   "mimetype": "text/x-python",
   "name": "python",
   "nbconvert_exporter": "python",
   "pygments_lexer": "ipython3",
   "version": "3.11.7"
  }
 },
 "nbformat": 4,
 "nbformat_minor": 2
}
