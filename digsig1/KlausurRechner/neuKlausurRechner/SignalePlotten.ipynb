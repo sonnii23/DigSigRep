{
 "cells": [
  {
   "cell_type": "code",
   "execution_count": 2,
   "metadata": {},
   "outputs": [],
   "source": [
    "import numpy as np\n",
    "import matplotlib.pyplot as plt\n",
    "from numpy.fft import fft, fftshift\n",
    "from scipy import signal\n",
    "import sounddevice as sd\n",
    "import time\n",
    "\n",
    "#Elementarsignale zeitdiskret Funktionen\n",
    "#Dirac\n",
    "def sprung(n):\n",
    "    return np.heaviside(n,1)\n",
    "#Impuls\n",
    "def dirac(n):\n",
    "    return np.array([1 if 0 == i else 0 for i in n])  \n",
    "#Sinus\n",
    "def sinus(n,om):\n",
    "    return np.sin(4*(om/14*n))\n",
    "#Cosinus\n",
    "def cosinus(n,om):\n",
    "    return np.cos(om*(n))\n",
    "\n",
    "\n",
    "#Darstellung des Signals\n",
    "def gibGrafikZeit(n, array):\n",
    "    plt.title(\"Darstellung im Zeitbereich\")\n",
    "    plt.stem(n,array)\n",
    "    plt.grid(True)\n",
    "    print(\"AHTUNG Werte von\",n[0],\"bis\",n[n.size-1],\"werden Betrachtet!\")\n",
    "    #print(\"\")\n",
    "    #print(\"Werte für Y:\",array)\n",
    "\n",
    "\n",
    "def gibGrafikAlles(n,array):\n",
    "    spectrum = np.fft.fft(array)\n",
    "    # Bestimmung der Frequenzachse\n",
    "    sampling_rate = 1 / (n[1] - n[0])  # Abtastrate\n",
    "    frequencies = np.fft.fftfreq(len(array), 1 / sampling_rate)\n",
    "\n",
    "    # Darstellung des Spektrums\n",
    "    plt.stem(frequencies, np.abs(spectrum))  # Amplitudenspektrum\n",
    "    plt.xlabel('Frequenz (Hz)')\n",
    "    plt.ylabel('Amplitude')\n",
    "    plt.title('Spektrum des Signals')\n",
    "    plt.grid(True)\n",
    "    plt.show()\n",
    "\n",
    "\n",
    "\n",
    "def exponential(n,a):\n",
    "    #Darstellung\n",
    "    xa= np.array([a**i if 0<=i else 0.0 for i in n])\n",
    "    plt.stem(n,xa)\n",
    "    plt.grid(True)\n",
    "    print(\"AHTUNG Werte von\",n[0],\"bis\",n[n.size-1],\"werden Betrachtet!\")\n",
    "    print(\"Werte für Y:\",xa)\n"
   ]
  },
  {
   "cell_type": "markdown",
   "metadata": {},
   "source": []
  },
  {
   "cell_type": "code",
   "execution_count": 31,
   "metadata": {},
   "outputs": [
    {
     "ename": "TypeError",
     "evalue": "unsupported operand type(s) for *: 'function' and 'float'",
     "output_type": "error",
     "traceback": [
      "\u001b[1;31m---------------------------------------------------------------------------\u001b[0m",
      "\u001b[1;31mTypeError\u001b[0m                                 Traceback (most recent call last)",
      "Cell \u001b[1;32mIn[31], line 11\u001b[0m\n\u001b[0;32m      3\u001b[0m n \u001b[38;5;241m=\u001b[39m np\u001b[38;5;241m.\u001b[39marange(\u001b[38;5;241m-\u001b[39m\u001b[38;5;241m8\u001b[39m,\u001b[38;5;241m7\u001b[39m\u001b[38;5;241m+\u001b[39m\u001b[38;5;241m1\u001b[39m) \u001b[38;5;66;03m#Wertebereiches\u001b[39;00m\n\u001b[0;32m      5\u001b[0m \u001b[38;5;66;03m#Hier die Formel eingeben #np.sin(om/periode*(n)),  np.cos(om/periode*(n)), sprung(n), impuls(n)\u001b[39;00m\n\u001b[0;32m      6\u001b[0m \u001b[38;5;66;03m#array = 1 - sprung(n-5) + (0.5 * dirac(n-4)) # cosinus(n,om/12) #\u001b[39;00m\n\u001b[0;32m      7\u001b[0m \u001b[38;5;66;03m#array = sprung(n+1) * np.cos(om / 8 *  n) # cosinus(n,om/12) #\u001b[39;00m\n\u001b[0;32m      8\u001b[0m \u001b[38;5;66;03m#array = np.cos(1/3 * np.pi *  n)\u001b[39;00m\n\u001b[0;32m      9\u001b[0m \u001b[38;5;66;03m#array = 5 * sprung(n + 1) + 5\u001b[39;00m\n\u001b[0;32m     10\u001b[0m \u001b[38;5;66;03m#array = 1 + sprung(5*(n+1))\u001b[39;00m\n\u001b[1;32m---> 11\u001b[0m array \u001b[38;5;241m=\u001b[39m sprung \u001b[38;5;241m*\u001b[39m np\u001b[38;5;241m.\u001b[39mcos(\u001b[38;5;241m2\u001b[39m\u001b[38;5;241m*\u001b[39m np\u001b[38;5;241m.\u001b[39mpi \u001b[38;5;241m*\u001b[39m n\u001b[38;5;241m/\u001b[39m\u001b[38;5;241m8\u001b[39m)\n\u001b[0;32m     13\u001b[0m \u001b[38;5;28mprint\u001b[39m(array)\n\u001b[0;32m     15\u001b[0m \u001b[38;5;66;03m#Darstellung\u001b[39;00m\n",
      "\u001b[1;31mTypeError\u001b[0m: unsupported operand type(s) for *: 'function' and 'float'"
     ]
    }
   ],
   "source": [
    "#Standartwerte\n",
    "om = 2*np.pi #Nur für Sinus und Cosinus\n",
    "n = np.arange(-8,7+1) #Wertebereiches\n",
    "\n",
    "#Hier die Formel eingeben #np.sin(om/periode*(n)),  np.cos(om/periode*(n)), sprung(n), impuls(n)\n",
    "#array = 1 - sprung(n-5) + (0.5 * dirac(n-4)) # cosinus(n,om/12) #\n",
    "#array = sprung(n+1) * np.cos(om / 8 *  n) # cosinus(n,om/12) #\n",
    "#array = np.cos(1/3 * np.pi *  n)\n",
    "#array = 5 * sprung(n + 1) + 5\n",
    "#array = 1 + sprung(5*(n+1))\n",
    "array = sprung * np.cos(2* np.pi * n/8)\n",
    "\n",
    "print(array)\n",
    "\n",
    "#Darstellung\n",
    "\n",
    "gibGrafikZeit(n, array)"
   ]
  },
  {
   "cell_type": "code",
   "execution_count": 4,
   "metadata": {},
   "outputs": [
    {
     "name": "stdout",
     "output_type": "stream",
     "text": [
      "AHTUNG Werte von -2 bis 5 werden Betrachtet!\n",
      "Werte für Y: [0.      0.      1.      0.7     0.49    0.343   0.2401  0.16807]\n"
     ]
    },
    {
     "data": {
      "image/png": "[encoded data removed]",
      "text/plain": [
       "<Figure size 640x480 with 1 Axes>"
      ]
     },
     "metadata": {},
     "output_type": "display_data"
    }
   ],
   "source": [
    "n = np.arange(-2, 5+1) #achtung hier\n",
    "a = 0.7\n",
    "exponential(n,a)"
   ]
  }
 ],
 "metadata": {
  "kernelspec": {
   "display_name": "base",
   "language": "python",
   "name": "python3"
  },
  "language_info": {
   "codemirror_mode": {
    "name": "ipython",
    "version": 3
   },
   "file_extension": ".py",
   "mimetype": "text/x-python",
   "name": "python",
   "nbconvert_exporter": "python",
   "pygments_lexer": "ipython3",
   "version": "3.11.7"
  }
 },
 "nbformat": 4,
 "nbformat_minor": 2
}
