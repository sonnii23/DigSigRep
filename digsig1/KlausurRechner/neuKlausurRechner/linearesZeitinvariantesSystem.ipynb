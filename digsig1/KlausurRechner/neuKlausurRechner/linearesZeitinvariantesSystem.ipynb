{
 "cells": [
  {
   "cell_type": "code",
   "execution_count": 2,
   "metadata": {},
   "outputs": [],
   "source": [
    "import numpy as np\n",
    "\n",
    "def linearesZeitinvariantesSystem(fa,Aa,w):\n",
    "    #Darstellung\n",
    "    arr = np.zeros(Aa.size+fa.size*(w-1))\n",
    "    for i in range(w):\n",
    "        temp = np.insert(Aa, 0, np.zeros(fa.size*i))\n",
    "        temp2 = np.append(temp,np.zeros(fa.size*((w-1)-i)))\n",
    "        arr = arr+temp2\n",
    "\n",
    "    print(\"Länge des Stoßes:\",Aa.size+1-fa.size)\n",
    "    print(\"Ergebnis:\",arr)"
   ]
  },
  {
   "cell_type": "markdown",
   "metadata": {},
   "source": [
    "# Beispiel"
   ]
  },
  {
   "cell_type": "code",
   "execution_count": 3,
   "metadata": {},
   "outputs": [
    {
     "name": "stdout",
     "output_type": "stream",
     "text": [
      "Länge des Stoß: 5\n",
      "Ergebnis: [ 1.  3. -2. -1.  2.  6. -4. -2.  1.  3. -2. -1.]\n"
     ]
    }
   ],
   "source": [
    "fa = np.array([1,3,-2,-1])  #angeregte Folge\n",
    "Aa = np.array([1,3,-2,-1,1,3,-2,-1])  #Stoßantwort\n",
    "w = 2  #anzahl der wiederholungen\n",
    "\n",
    "linearesZeitinvariantesSystem(fa,Aa,w)"
   ]
  },
  {
   "cell_type": "code",
   "execution_count": null,
   "metadata": {},
   "outputs": [],
   "source": []
  }
 ],
 "metadata": {
  "kernelspec": {
   "display_name": "base",
   "language": "python",
   "name": "python3"
  },
  "language_info": {
   "codemirror_mode": {
    "name": "ipython",
    "version": 3
   },
   "file_extension": ".py",
   "mimetype": "text/x-python",
   "name": "python",
   "nbconvert_exporter": "python",
   "pygments_lexer": "ipython3",
   "version": "3.11.7"
  }
 },
 "nbformat": 4,
 "nbformat_minor": 2
}
