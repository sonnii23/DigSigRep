{
 "cells": [
  {
   "cell_type": "code",
   "execution_count": null,
   "metadata": {},
   "outputs": [],
   "source": [
    "Leckeffeckt - Taucht auf, wenn die Abtastrate (N) kein vielfaches der Grundfrequenz ist\n",
    "N = 64\n",
    "\n",
    "Zu teilender Betrag\n",
    "betrag = 12\n",
    "\n",
    "N einsetzen für PI in der Formel\n",
    "n = N / betrag\n",
    "\n",
    "if n % 2 == 0:\n",
    "    print(\"n ist gerade\")\n",
    "    print(\"Leckeffekt tritt NICHT auf. N = \" , n )\n",
    "\n",
    "else:\n",
    "    print(\"n ist ungerade\")\n",
    "    print(\"Leckeffekt tritt auf.  N = \" , n)"
   ]
  }
 ],
 "metadata": {
  "language_info": {
   "name": "python"
  }
 },
 "nbformat": 4,
 "nbformat_minor": 2
}
