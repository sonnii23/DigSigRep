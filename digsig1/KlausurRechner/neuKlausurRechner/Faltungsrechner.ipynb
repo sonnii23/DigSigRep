{
 "cells": [
  {
   "cell_type": "code",
   "execution_count": 2,
   "metadata": {},
   "outputs": [],
   "source": [
    "#Faltungsrechner\n",
    "import numpy as np\n",
    "import matplotlib.pyplot as plt\n",
    "def lineareFaltungRechner(a,b):\n",
    "    faltung = np.convolve(a,b)\n",
    "    print(\"Faltungsergebnis:\", np.flipud(a),\"*\",b,\"=\",faltung)\n",
    "\n",
    "    #Rechnungsdarstellung als Matrix\n",
    "    l = a.size + b.size -1 #länge des erbegnisarrays\n",
    "    a = np.append(np.flipud(a), np.zeros(l-a.size))\n",
    "    b = np.insert(b, 0, np.zeros(l-b.size))\n",
    "    print(\"\")\n",
    "    print(\"Rechnungsdarstellung: a * b\")\n",
    "    for i in range(l):\n",
    "        if (i == 0):\n",
    "            temp = \"  =\"\n",
    "            for g in range(len(a)):\n",
    "                if (a[g] == 0 or b[g] == 0):\n",
    "                    pass\n",
    "                else:\n",
    "                    if (temp == \"  =\"):\n",
    "                        str1 = a[g],\"*\",b[g]\n",
    "                        temp = \" = \"+str(str1)\n",
    "                    else:\n",
    "                        str1 = a[g],\"*\",b[g]\n",
    "                        temp = temp+\"+\"+str(str1)\n",
    "            print(a, \" [\",b[i],\"] = [\",faltung[i],\"]\", temp)\n",
    "            #print(temp)\n",
    "        else:\n",
    "            a = np.insert(a, 0, np.zeros(1))\n",
    "            a = a[:-1]\n",
    "            temp = \"  =\"\n",
    "            for g in range(len(a)):\n",
    "                if (a[g] == 0 or b[g] == 0):\n",
    "                    pass\n",
    "                else:\n",
    "                    if (temp == \"  =\"):\n",
    "                        str1 = a[g],\"*\",b[g]\n",
    "                        temp = \" = \"+str(str1)\n",
    "                    else:\n",
    "                        str1 = a[g],\"*\",b[g]\n",
    "                        temp = temp+\"+\"+str(str1)\n",
    "            \n",
    "            print(a, \" [\",b[i],\"] = [\",faltung[i],\"]\", temp)"
   ]
  },
  {
   "cell_type": "markdown",
   "metadata": {},
   "source": [
    "# Aufgabe"
   ]
  },
  {
   "cell_type": "code",
   "execution_count": 4,
   "metadata": {},
   "outputs": [
    {
     "name": "stdout",
     "output_type": "stream",
     "text": [
      "Länge von l_1: 21\n",
      "Länge von l_2: 41\n",
      "Länge von beiden: 61\n",
      "--------------------------------------------------------------------------------\n",
      "Faltungsergebnis: [3 2 1] * [ 1  3 -2 -1  1  3 -2 -1] = [ 1  5  7  4 -7  2  7  4 -8 -3]\n",
      "\n",
      "Rechnungsdarstellung: a * b\n",
      "[3. 2. 1. 0. 0. 0. 0. 0. 0. 0.]  [ 0 ] = [ 1 ]  = (1.0, '*', 1)\n",
      "[0. 3. 2. 1. 0. 0. 0. 0. 0. 0.]  [ 0 ] = [ 5 ]  = (2.0, '*', 1)+(1.0, '*', 3)\n",
      "[0. 0. 3. 2. 1. 0. 0. 0. 0. 0.]  [ 1 ] = [ 7 ]  = (3.0, '*', 1)+(2.0, '*', 3)+(1.0, '*', -2)\n",
      "[0. 0. 0. 3. 2. 1. 0. 0. 0. 0.]  [ 3 ] = [ 4 ]  = (3.0, '*', 3)+(2.0, '*', -2)+(1.0, '*', -1)\n",
      "[0. 0. 0. 0. 3. 2. 1. 0. 0. 0.]  [ -2 ] = [ -7 ]  = (3.0, '*', -2)+(2.0, '*', -1)+(1.0, '*', 1)\n",
      "[0. 0. 0. 0. 0. 3. 2. 1. 0. 0.]  [ -1 ] = [ 2 ]  = (3.0, '*', -1)+(2.0, '*', 1)+(1.0, '*', 3)\n",
      "[0. 0. 0. 0. 0. 0. 3. 2. 1. 0.]  [ 1 ] = [ 7 ]  = (3.0, '*', 1)+(2.0, '*', 3)+(1.0, '*', -2)\n",
      "[0. 0. 0. 0. 0. 0. 0. 3. 2. 1.]  [ 3 ] = [ 4 ]  = (3.0, '*', 3)+(2.0, '*', -2)+(1.0, '*', -1)\n",
      "[0. 0. 0. 0. 0. 0. 0. 0. 3. 2.]  [ -2 ] = [ -8 ]  = (3.0, '*', -2)+(2.0, '*', -1)\n",
      "[0. 0. 0. 0. 0. 0. 0. 0. 0. 3.]  [ -1 ] = [ -3 ]  = (3.0, '*', -1)\n",
      "\n",
      "Faltung durch numpy:\n",
      "[ 1  5  7  4 -7  2  7  4 -8 -3]\n"
     ]
    },
    {
     "data": {
      "text/plain": [
       "<StemContainer object of 3 artists>"
      ]
     },
     "execution_count": 4,
     "metadata": {},
     "output_type": "execute_result"
    },
    {
     "data": {
      "image/png": "[encoded data removed]",
      "text/plain": [
       "<Figure size 1000x500 with 2 Axes>"
      ]
     },
     "metadata": {},
     "output_type": "display_data"
    }
   ],
   "source": [
    "l_1 = np.arange(21)\n",
    "l_2 = np.arange(41)\n",
    "\n",
    "print(\"Länge von l_1:\",l_1.size)\n",
    "print(\"Länge von l_2:\",l_2.size)\n",
    "print(\"Länge von beiden:\",l_1.size+l_2.size-1)\n",
    "print(\"--------------------------------------------------------------------------------\")\n",
    "\n",
    "# Zeitinvertierte Funktion = x_1\n",
    "x_1 = np.array([1,2,3])\n",
    "x_2 = np.array([1,3,-2,-1])\n",
    "\n",
    "lineareFaltungRechner(x_1,x_2)\n",
    "\n",
    "# numpy korrektur\n",
    "faltung = np.convolve(x_1,x_2)\n",
    "print(\"\")\n",
    "print(\"Faltung durch numpy:\")\n",
    "print(faltung)\n",
    "\n",
    "fig, ax = plt.subplots(1,2 , figsize=(10,5))\n",
    "ax[0].stem(np.arange(x_1.size),np.flipud(x_1))\n",
    "ax[1].stem(np.arange(x_2.size),x_2)\n"
   ]
  },
  {
   "cell_type": "code",
   "execution_count": null,
   "metadata": {},
   "outputs": [],
   "source": []
  }
 ],
 "metadata": {
  "kernelspec": {
   "display_name": "base",
   "language": "python",
   "name": "python3"
  },
  "language_info": {
   "codemirror_mode": {
    "name": "ipython",
    "version": 3
   },
   "file_extension": ".py",
   "mimetype": "text/x-python",
   "name": "python",
   "nbconvert_exporter": "python",
   "pygments_lexer": "ipython3",
   "version": "3.11.7"
  }
 },
 "nbformat": 4,
 "nbformat_minor": 2
}
