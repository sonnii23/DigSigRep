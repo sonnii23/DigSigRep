{
 "cells": [
  {
   "cell_type": "markdown",
   "metadata": {},
   "source": [
    "Praktikum Digitale Signalverarbeitung\n",
    "=====================================\n",
    "\n",
    "**Author:** Prof. Dr.-Ing. Johann-Markus Batke\n",
    "\n",
    "**Date:** SS 2024\n",
    "\n"
   ]
  },
  {
   "cell_type": "markdown",
   "metadata": {},
   "source": [
    "## Organisatorisches\n",
    "\n"
   ]
  },
  {
   "cell_type": "markdown",
   "metadata": {},
   "source": [
    "-   Bearbeiten Sie die Vorbereitungsaufgaben.\n",
    "\n",
    "-   Die Ergebnisse des Versuchs PDS 2 sind am Versuchstag während des\n",
    "    Versuchs im Moodle-Kurs abzugeben.\n",
    "\n",
    "-   Sollten Sie vor Ablauf des Termins fertig sein, zeigen Sie vor\n",
    "    Abgabe einer der Betreuungspersonen Ihre Lösung. Ist alles in\n",
    "    Ordnung, können Sie abgeben und früher gehen.\n",
    "\n"
   ]
  },
  {
   "cell_type": "markdown",
   "metadata": {},
   "source": [
    "## Vorbereitung\n",
    "\n"
   ]
  },
  {
   "cell_type": "markdown",
   "metadata": {},
   "source": [
    "Die Vorbereitung muss zu Beginn des Praktikums erfolgt sein, damit eine flüssige Bearbeitung der Aufgaben während des Praktikums gewährleistet ist.  Die Ergebnisse der Vorbereitung in diesem Versuch sind in der Lösung mit abzugeben!\n",
    "\n"
   ]
  },
  {
   "cell_type": "markdown",
   "metadata": {},
   "source": [
    "### Python Module\n",
    "\n"
   ]
  },
  {
   "cell_type": "markdown",
   "metadata": {},
   "source": [
    "Für den Versuch werden folgende Import-Befehle benötigt:\n",
    "\n"
   ]
  },
  {
   "cell_type": "code",
   "execution_count": 2,
   "metadata": {},
   "outputs": [],
   "source": [
    "import numpy as np\n",
    "import matplotlib.pyplot as plt"
   ]
  },
  {
   "cell_type": "markdown",
   "metadata": {},
   "source": [
    "### Numpy-Sprachelemente\n",
    "\n"
   ]
  },
  {
   "cell_type": "markdown",
   "metadata": {},
   "source": [
    "1.  Vergegenwärtigen Sie sich die Funktion der Numpy-array-Methoden `shape`, `reshape`, `ndim`, `size`.\n",
    "\n",
    "2.  Welche *Bedeutung* hat die Ausgabe des folgenden Programmtexts?\n",
    "\n"
   ]
  },
  {
   "cell_type": "code",
   "execution_count": 3,
   "metadata": {},
   "outputs": [
    {
     "name": "stdout",
     "output_type": "stream",
     "text": [
      "10\n",
      "(5, 2)\n",
      "2\n"
     ]
    }
   ],
   "source": [
    "a = np.ones([5, 2])\n",
    "print(a.size)\n",
    "print(a.shape)\n",
    "print(a.ndim) "
   ]
  },
  {
   "cell_type": "markdown",
   "metadata": {},
   "source": [
    "#### Antwort 2\n",
    "Die Funktion \"size\" gibt die Anzahl an Elementen aus die z.B. in einem Array, einer Matrix oder einem Vektor sind.\n",
    "\n",
    "Die Funktion \"shape\" gibt aus wie viele Zeilen und Spalten ein vorgegebenes Array/Matrix/Vektor hat.\n",
    "\n",
    "Die Funktion \"ndim\" gibt an wie viele Dimensionen ein Array, eine Matrix oder ein Vektor haben."
   ]
  },
  {
   "cell_type": "markdown",
   "metadata": {},
   "source": [
    "1.  Analysieren Sie die Ausgabe dieses Beispiels.  Welche Dimension hat `c`?\n",
    "\n"
   ]
  },
  {
   "cell_type": "code",
   "execution_count": 4,
   "metadata": {},
   "outputs": [
    {
     "name": "stdout",
     "output_type": "stream",
     "text": [
      "[[3.]\n",
      " [3.]\n",
      " [3.]]\n"
     ]
    }
   ],
   "source": [
    "A = np.ones([3, 3])\n",
    "b = np.ones([3,1])\n",
    "c = A @ b\n",
    "print(c) #2-Dimensionen Array (sieht man an den Klammern) "
   ]
  },
  {
   "cell_type": "markdown",
   "metadata": {},
   "source": [
    "`c` hat zwei Dimensionen."
   ]
  },
  {
   "cell_type": "markdown",
   "metadata": {},
   "source": [
    "### Zyklische Vertauschung\n",
    "\n"
   ]
  },
  {
   "cell_type": "markdown",
   "metadata": {},
   "source": [
    "Testen Sie den Befehl `np.roll(a_N, 5)` mit dem Vektor\n",
    "\n"
   ]
  },
  {
   "cell_type": "code",
   "execution_count": 5,
   "metadata": {},
   "outputs": [
    {
     "data": {
      "text/plain": [
       "array([[3],\n",
       "       [4],\n",
       "       [5],\n",
       "       [6],\n",
       "       [7],\n",
       "       [0],\n",
       "       [1],\n",
       "       [2]])"
      ]
     },
     "execution_count": 5,
     "metadata": {},
     "output_type": "execute_result"
    }
   ],
   "source": [
    "a_N = np.arange(8).reshape(8,1)\n",
    "np.roll(a_N, 5) #verschiebt die Werte um 5 nach rechts\n"
   ]
  },
  {
   "cell_type": "markdown",
   "metadata": {},
   "source": [
    "Testen Sie auch den axis-Parameter! Rufen Sie dazu die Dokumenation für `np.roll` auf.\n",
    "\n"
   ]
  },
  {
   "cell_type": "code",
   "execution_count": 13,
   "metadata": {},
   "outputs": [
    {
     "data": {
      "text/plain": [
       "array([[12, 13],\n",
       "       [14, 15],\n",
       "       [ 0,  1],\n",
       "       [ 2,  3],\n",
       "       [ 4,  5],\n",
       "       [ 6,  7],\n",
       "       [ 8,  9],\n",
       "       [10, 11]])"
      ]
     },
     "execution_count": 13,
     "metadata": {},
     "output_type": "execute_result"
    }
   ],
   "source": [
    "np.roll(np.arange(16).reshape(8,2), 2, axis=0) #axis gibt an auf welcher achse verschoben wird"
   ]
  },
  {
   "cell_type": "markdown",
   "metadata": {},
   "source": [
    "### Vektoralgebra\n",
    "\n"
   ]
  },
  {
   "cell_type": "markdown",
   "metadata": {},
   "source": [
    "Dieser Versuch beschäftigt sich mit Methoden der linearen Algebra (also Rechnen mit Vektoren und Matrizen).  Erklären Sie diesbezüglich die Begriffe \"elementweise Multiplikation\", \"Matrixmultiplikation\", \"inneres Produkt\", \"äußeres Produkt\", \"Skalarprodukt\" und \"Kreuzprodukt\"!\n",
    "\n"
   ]
  },
  {
   "cell_type": "markdown",
   "metadata": {},
   "source": [
    "## Matrizen als Bilder\n",
    "\n"
   ]
  },
  {
   "cell_type": "markdown",
   "metadata": {},
   "source": [
    "Die Werte von Matrizen lassen sich bildlich darstellen und ermöglichen so einen schnellen Überblick über die numerischen Werte. Zur Anzeige von Bildern steht über das Modul `matplotlib` der Befehl `plt.imshow()` zur Verfügung. Die Werte 0..15 als Matrix\n",
    "\n"
   ]
  },
  {
   "cell_type": "code",
   "execution_count": 7,
   "metadata": {},
   "outputs": [
    {
     "name": "stdout",
     "output_type": "stream",
     "text": [
      "[[ 0  1  2  3]\n",
      " [ 4  5  6  7]\n",
      " [ 8  9 10 11]\n",
      " [12 13 14 15]]\n"
     ]
    }
   ],
   "source": [
    "a_NN = np.arange(16).reshape(4,4)\n",
    "print(a_NN)"
   ]
  },
  {
   "cell_type": "markdown",
   "metadata": {},
   "source": [
    "können z.B. wie folgt als Grauwerte dargestellt werden:\n",
    "\n"
   ]
  },
  {
   "cell_type": "code",
   "execution_count": 8,
   "metadata": {},
   "outputs": [
    {
     "data": {
      "text/plain": [
       "<matplotlib.image.AxesImage at 0x15900f1b790>"
      ]
     },
     "execution_count": 8,
     "metadata": {},
     "output_type": "execute_result"
    },
    {
     "data": {
      "image/png": "[encoded data removed]",
      "text/plain": [
       "<Figure size 640x480 with 1 Axes>"
      ]
     },
     "metadata": {},
     "output_type": "display_data"
    }
   ],
   "source": [
    "plt.imshow(a_NN, cmap=\"Reds\")"
   ]
  },
  {
   "cell_type": "markdown",
   "metadata": {},
   "source": [
    "## Aufgaben\n",
    "\n"
   ]
  },
  {
   "cell_type": "markdown",
   "metadata": {},
   "source": [
    "### Balken-Matrix erzeugen\n",
    "\n"
   ]
  },
  {
   "cell_type": "markdown",
   "metadata": {},
   "source": [
    "Erzeuge eine Matrix der Form:\n",
    "\n"
   ]
  },
  {
   "cell_type": "code",
   "execution_count": 9,
   "metadata": {},
   "outputs": [],
   "source": [
    "M = 4\n",
    "\n",
    "balken = np.arange(M).reshape(M, 1)@np.ones(M).reshape(1, M)#balkenmatrix aufstellen"
   ]
  },
  {
   "cell_type": "markdown",
   "metadata": {},
   "source": [
    "Verwenden Sie dazu zwei Vektoren mit je $M=4$ Werten und nutzen die Möglichkeiten der linearen Algebra!  Stellen Sie das Ergebnis bildlich dar!\n",
    "\n"
   ]
  },
  {
   "cell_type": "code",
   "execution_count": 10,
   "metadata": {},
   "outputs": [
    {
     "data": {
      "text/plain": [
       "<matplotlib.image.AxesImage at 0x159011de450>"
      ]
     },
     "execution_count": 10,
     "metadata": {},
     "output_type": "execute_result"
    },
    {
     "data": {
      "image/png": "[encoded data removed]",
      "text/plain": [
       "<Figure size 640x480 with 1 Axes>"
      ]
     },
     "metadata": {},
     "output_type": "display_data"
    }
   ],
   "source": [
    "plt.imshow(balken, cmap=\"Greens\") #bild ausgeben"
   ]
  },
  {
   "cell_type": "markdown",
   "metadata": {},
   "source": [
    "### Schachbrett\n",
    "\n"
   ]
  },
  {
   "cell_type": "markdown",
   "metadata": {},
   "source": [
    "Erzeugen Sie - möglichst mit Methoden der Algebra - ein Schachbrettmuster wie unten gezeigt her!\n",
    "\n",
    "![img](./schachbrett.png)\n",
    "\n"
   ]
  },
  {
   "cell_type": "code",
   "execution_count": 11,
   "metadata": {},
   "outputs": [
    {
     "name": "stdout",
     "output_type": "stream",
     "text": [
      "[[1 0 1 0 1 0 1 0]\n",
      " [0 1 0 1 0 1 0 1]\n",
      " [1 0 1 0 1 0 1 0]\n",
      " [0 1 0 1 0 1 0 1]\n",
      " [1 0 1 0 1 0 1 0]\n",
      " [0 1 0 1 0 1 0 1]\n",
      " [1 0 1 0 1 0 1 0]\n",
      " [0 1 0 1 0 1 0 1]]\n",
      "[[0 1 0 1 0 1 0 1]\n",
      " [1 0 1 0 1 0 1 0]\n",
      " [0 1 0 1 0 1 0 1]\n",
      " [1 0 1 0 1 0 1 0]\n",
      " [0 1 0 1 0 1 0 1]\n",
      " [1 0 1 0 1 0 1 0]\n",
      " [0 1 0 1 0 1 0 1]\n",
      " [1 0 1 0 1 0 1 0]]\n"
     ]
    },
    {
     "data": {
      "text/plain": [
       "<matplotlib.image.AxesImage at 0x15901267650>"
      ]
     },
     "execution_count": 11,
     "metadata": {},
     "output_type": "execute_result"
    },
    {
     "data": {
      "image/png": "[encoded data removed]",
      "text/plain": [
       "<Figure size 1500x700 with 2 Axes>"
      ]
     },
     "metadata": {},
     "output_type": "display_data"
    }
   ],
   "source": [
    "M2=8\n",
    "#brett variablen erstellen\n",
    "brett = (np.arange(1,M2+1).reshape(M2, 1)+np.arange(M2))%2 #range aufstellen von 1 bis 9 und dann modulo 2 um werte von 0 und 1 zu erhalten\n",
    "brett2 = np.indices((M2, M2)).sum(axis=0)%2 #indices gibt den index der Elemente zurück, dann aufsummieren und modulo 2 um werte von 0 und 1 zu erhalten\n",
    "#ausgaben überprüfen\n",
    "print(brett) \n",
    "print(brett2)\n",
    "\n",
    "\n",
    "#verschiedene windows\n",
    "fig, axs = plt.subplots(1,2, figsize=(15, 7))\n",
    "axs[0].imshow(brett, cmap=\"grey\")\n",
    "axs[1].imshow(brett2, cmap=\"magma\")"
   ]
  },
  {
   "cell_type": "code",
   "execution_count": null,
   "metadata": {},
   "outputs": [],
   "source": []
  }
 ],
 "metadata": {
  "kernelspec": {
   "display_name": "Python 3 (ipykernel)",
   "language": "python",
   "name": "python3"
  },
  "language_info": {
   "codemirror_mode": {
    "name": "ipython",
    "version": 3
   },
   "file_extension": ".py",
   "mimetype": "text/x-python",
   "name": "python",
   "nbconvert_exporter": "python",
   "pygments_lexer": "ipython3",
   "version": "3.11.7"
  },
  "org": null
 },
 "nbformat": 4,
 "nbformat_minor": 4
}
